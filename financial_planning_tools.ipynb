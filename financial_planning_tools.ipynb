{
 "cells": [
  {
   "cell_type": "markdown",
   "metadata": {},
   "source": [
    "# Financial Planning with APIs and Simulations\n",
    "\n"
   ]
  },
  {
   "cell_type": "code",
   "execution_count": 1,
   "metadata": {},
   "outputs": [],
   "source": [
    "# Import the required libraries and dependencies\n",
    "import os\n",
    "import requests\n",
    "import json\n",
    "import pandas as pd\n",
    "from dotenv import load_dotenv\n",
    "import alpaca_trade_api as tradeapi\n",
    "from MCForecastTools import MCSimulation\n",
    "\n",
    "%matplotlib inline"
   ]
  },
  {
   "cell_type": "code",
   "execution_count": 2,
   "metadata": {},
   "outputs": [
    {
     "name": "stdout",
     "output_type": "stream",
     "text": [
      "PKS6M7V3B8QYS3IIF705\n"
     ]
    }
   ],
   "source": [
    "# Load the environment variables from the .env file\n",
    "%load_ext dotenv\n",
    "%dotenv variables.env\n",
    "load_dotenv()\n",
    "check=os.getenv(\"ALPACA_API_KEY\")\n",
    "print(check)"
   ]
  },
  {
   "cell_type": "markdown",
   "metadata": {},
   "source": [
    "## Part 1: Create a Financial Planner for Emergencies"
   ]
  },
  {
   "cell_type": "markdown",
   "metadata": {},
   "source": [
    "### Evaluate the Cryptocurrency Wallet by Using the Requests Library"
   ]
  },
  {
   "cell_type": "code",
   "execution_count": 45,
   "metadata": {},
   "outputs": [],
   "source": [
    "# The current number of coins for each cryptocurrency asset held in the portfolio.\n",
    "btc_coins = 1.2\n",
    "eth_coins = 5.3"
   ]
  },
  {
   "cell_type": "markdown",
   "metadata": {},
   "source": [
    "#### Step 1: Create a variable named `monthly_income`, and set its value to `12000`."
   ]
  },
  {
   "cell_type": "code",
   "execution_count": 46,
   "metadata": {},
   "outputs": [],
   "source": [
    "# The monthly amount for the member's household income\n",
    "monthly_income=12000\n"
   ]
  },
  {
   "cell_type": "markdown",
   "metadata": {},
   "source": [
    "#### Review the endpoint URLs for the API calls to Free Crypto API in order to get the current pricing information for both BTC and ETH."
   ]
  },
  {
   "cell_type": "code",
   "execution_count": 5,
   "metadata": {},
   "outputs": [],
   "source": [
    "# The Free Crypto API Call endpoint URLs for the held cryptocurrency assets\n",
    "btc_url = \"https://api.alternative.me/v2/ticker/Bitcoin/?convert=USD\"\n",
    "eth_url = \"https://api.alternative.me/v2/ticker/Ethereum/?convert=USD\""
   ]
  },
  {
   "cell_type": "markdown",
   "metadata": {},
   "source": [
    "#### Step 2. Use the Requests library to get the current price (in US dollars) of Bitcoin (BTC) and Ethereum (ETH) by using the API endpoints that the starter code supplied."
   ]
  },
  {
   "cell_type": "code",
   "execution_count": 6,
   "metadata": {},
   "outputs": [
    {
     "data": {
      "text/plain": [
       "'{\\n\"data\": {\\n\"1\": {\\n\"circulating_supply\": 18880018,\\n\"id\": 1,\\n\"last_updated\": 1637563419,\\n\"max_supply\": 21000000,\\n\"name\": \"Bitcoin\",\\n\"quotes\": {\\n\"USD\": {\\n\"market_cap\": 1082027721559,\\n\"percent_change_1h\": -0.1435926539345,\\n\"percent_change_24h\": -3.14471557395582,\\n\"percent_change_7d\": -12.6439452944125,\\n\"percentage_change_1h\": -0.1435926539345,\\n\"percentage_change_24h\": -3.14471557395582,\\n\"percentage_change_7d\": -12.6439452944125,\\n\"price\": 57348.0,\\n\"volume_24h\": 28878722338\\n}\\n},\\n\"rank\": 1,\\n\"symbol\": \"BTC\",\\n\"total_supply\": 18880018,\\n\"website_slug\": \"bitcoin\"\\n}\\n},\\n\"metadata\": {\\n\"error\": null,\\n\"num_cryptocurrencies\": 3105,\\n\"timestamp\": 1637563419\\n}\\n}'"
      ]
     },
     "execution_count": 6,
     "metadata": {},
     "output_type": "execute_result"
    }
   ],
   "source": [
    "# Using the Python requests library, make an API call to access the current price of BTC\n",
    "btc_response = requests.get(btc_url).json()\n",
    "\n",
    "json.dumps(btc_response,sort_keys=True, indent=\"\")\n",
    "\n"
   ]
  },
  {
   "cell_type": "code",
   "execution_count": 7,
   "metadata": {},
   "outputs": [
    {
     "data": {
      "text/plain": [
       "'{\\n\"data\": {\\n\"1027\": {\\n\"circulating_supply\": 118440613,\\n\"id\": 1027,\\n\"last_updated\": 1637563453,\\n\"max_supply\": 0,\\n\"name\": \"Ethereum\",\\n\"quotes\": {\\n\"USD\": {\\n\"market_cap\": 494934986979,\\n\"percent_change_1h\": 0.0138442562496157,\\n\"percent_change_24h\": -4.60427426074249,\\n\"percent_change_7d\": -10.1830157274268,\\n\"percentage_change_1h\": 0.0138442562496157,\\n\"percentage_change_24h\": -4.60427426074249,\\n\"percentage_change_7d\": -10.1830157274268,\\n\"price\": 4179.14,\\n\"volume_24h\": 17523904927\\n}\\n},\\n\"rank\": 2,\\n\"symbol\": \"ETH\",\\n\"total_supply\": 118440613,\\n\"website_slug\": \"ethereum\"\\n}\\n},\\n\"metadata\": {\\n\"error\": null,\\n\"num_cryptocurrencies\": 3105,\\n\"timestamp\": 1637563453\\n}\\n}'"
      ]
     },
     "execution_count": 7,
     "metadata": {},
     "output_type": "execute_result"
    }
   ],
   "source": [
    "# Using the Python requests library, make an API call to access the current price ETH\n",
    "eth_response = requests.get(eth_url).json()\n",
    "\n",
    "# Use the json.dumps function to review the response data from the API call\n",
    "# Use the indent and sort_keys parameters to make the response object readable\n",
    "\n",
    "json.dumps(eth_response,sort_keys=True, indent=\"\")\n",
    "\n"
   ]
  },
  {
   "cell_type": "markdown",
   "metadata": {},
   "source": [
    "#### Step 3: Navigate the JSON response object to access the current price of each coin, and store each in a variable."
   ]
  },
  {
   "cell_type": "code",
   "execution_count": 8,
   "metadata": {},
   "outputs": [
    {
     "data": {
      "text/plain": [
       "57348.0"
      ]
     },
     "execution_count": 8,
     "metadata": {},
     "output_type": "execute_result"
    }
   ],
   "source": [
    "# Navigate the BTC response object to access the current price of BTC\n",
    "btc_price = btc_response[\"data\"][\"1\"][\"quotes\"][\"USD\"][\"price\"]\n",
    "\n",
    "# Print the current price of BTC\n",
    "btc_price"
   ]
  },
  {
   "cell_type": "code",
   "execution_count": 9,
   "metadata": {},
   "outputs": [
    {
     "data": {
      "text/plain": [
       "4179.14"
      ]
     },
     "execution_count": 9,
     "metadata": {},
     "output_type": "execute_result"
    }
   ],
   "source": [
    "# Navigate the BTC response object to access the current price of ETH\n",
    "eth_price = eth_response[\"data\"][\"1027\"][\"quotes\"][\"USD\"][\"price\"]\n",
    "\n",
    "# Print the current price of ETH\n",
    "eth_price"
   ]
  },
  {
   "cell_type": "markdown",
   "metadata": {},
   "source": [
    "### Step 4: Calculate the value, in US dollars, of the current amount of each cryptocurrency and of the entire cryptocurrency wallet."
   ]
  },
  {
   "cell_type": "code",
   "execution_count": 10,
   "metadata": {},
   "outputs": [
    {
     "data": {
      "text/plain": [
       "68817.59999999999"
      ]
     },
     "execution_count": 10,
     "metadata": {},
     "output_type": "execute_result"
    }
   ],
   "source": [
    "# Compute the current value of the BTC holding \n",
    "btc_value = btc_coins*btc_price\n",
    "\n",
    "# Print current value of your holding in BTC\n",
    "btc_value"
   ]
  },
  {
   "cell_type": "code",
   "execution_count": 11,
   "metadata": {},
   "outputs": [
    {
     "data": {
      "text/plain": [
       "22149.442000000003"
      ]
     },
     "execution_count": 11,
     "metadata": {},
     "output_type": "execute_result"
    }
   ],
   "source": [
    "# Compute the current value of the ETH holding \n",
    "eth_value = eth_coins*eth_price\n",
    "\n",
    "# Print current value of your holding in ETH\n",
    "eth_value"
   ]
  },
  {
   "cell_type": "code",
   "execution_count": 12,
   "metadata": {},
   "outputs": [
    {
     "data": {
      "text/plain": [
       "90967.04199999999"
      ]
     },
     "execution_count": 12,
     "metadata": {},
     "output_type": "execute_result"
    }
   ],
   "source": [
    "# Compute the total value of the cryptocurrency wallet\n",
    "# Add the value of the BTC holding to the value of the ETH holding\n",
    "total_crypto_wallet = btc_value+eth_value\n",
    "\n",
    "# Print current cryptocurrency wallet balance\n",
    "total_crypto_wallet\n"
   ]
  },
  {
   "cell_type": "markdown",
   "metadata": {},
   "source": [
    "### Evaluate the Stock and Bond Holdings by Using the Alpaca SDK\n"
   ]
  },
  {
   "cell_type": "markdown",
   "metadata": {},
   "source": [
    "#### Review the total number of shares held in both (SPY) and (AGG)."
   ]
  },
  {
   "cell_type": "code",
   "execution_count": 47,
   "metadata": {},
   "outputs": [],
   "source": [
    "# Current amount of shares held in both the stock (SPY) and bond (AGG) portion of the portfolio.\n",
    "spy_shares = 110\n",
    "agg_shares = 200\n"
   ]
  },
  {
   "cell_type": "markdown",
   "metadata": {},
   "source": [
    "#### Step 1: In the `Starter_Code` folder, create an environment file (`.env`) to store the values of your Alpaca API key and Alpaca secret key."
   ]
  },
  {
   "cell_type": "markdown",
   "metadata": {},
   "source": [
    "#### Step 2: Set the variables for the Alpaca API and secret keys. Using the Alpaca SDK, create the Alpaca `tradeapi.REST` object. In this object, include the parameters for the Alpaca API key, the secret key, and the version number."
   ]
  },
  {
   "cell_type": "code",
   "execution_count": 14,
   "metadata": {},
   "outputs": [
    {
     "name": "stdout",
     "output_type": "stream",
     "text": [
      "PKS6M7V3B8QYS3IIF705\n",
      "lmvXIZkUzTln9AMWQaajIh5Frt2mkF8ipYykCjLH\n"
     ]
    }
   ],
   "source": [
    "# Set the variables for the Alpaca API and secret keys\n",
    "alpaca_api_key=os.getenv('alpaca_api_key')\n",
    "alpaca_secret_key=os.getenv('ALPACA_SECRET_KEY')\n",
    "print(alpaca_api_key)\n",
    "print(alpaca_secret_key)\n",
    "#alpaca_api_key = \"PKS6M7V3B8QYS3IIF705\"\n",
    "#alpaca_secret_key = \"lmvXIZkUzTln9AMWQaajIh5Frt2mkF8ipYykCjLH\"\n",
    "# Create the Alpaca tradeapi.REST object\n",
    "\n",
    "alpaca = tradeapi.REST(\n",
    "    alpaca_api_key,\n",
    "    alpaca_secret_key,\n",
    "    api_version=\"v2\")"
   ]
  },
  {
   "cell_type": "markdown",
   "metadata": {},
   "source": [
    "#### Step 3: Set the following parameters for the Alpaca API call:\n",
    "\n",
    "- `tickers`: Use the tickers for the member’s stock and bond holdings.\n",
    "\n",
    "- `timeframe`: Use a time frame of one day.\n",
    "\n",
    "- `start_date` and `end_date`: Use the same date for these parameters, and format them with the date of the previous weekday (or `2020-08-07`). This is because you want the one closing price for the most-recent trading day.\n"
   ]
  },
  {
   "cell_type": "code",
   "execution_count": 15,
   "metadata": {},
   "outputs": [],
   "source": [
    "tickers=['SPY','AGG']\n",
    "timeframe = \"1D\"\n",
    "start_date = pd.Timestamp(\"2021-11-19\", tz=\"America/New_York\").isoformat()\n",
    "end_date = pd.Timestamp(\"2021-11-19\", tz=\"America/New_York\").isoformat()"
   ]
  },
  {
   "cell_type": "markdown",
   "metadata": {},
   "source": [
    "#### Step 4: Get the current closing prices for `SPY` and `AGG` by using the Alpaca `get_barset` function. Format the response as a Pandas DataFrame by including the `df` property at the end of the `get_barset` function."
   ]
  },
  {
   "cell_type": "code",
   "execution_count": 16,
   "metadata": {},
   "outputs": [
    {
     "data": {
      "text/html": [
       "<div>\n",
       "<style scoped>\n",
       "    .dataframe tbody tr th:only-of-type {\n",
       "        vertical-align: middle;\n",
       "    }\n",
       "\n",
       "    .dataframe tbody tr th {\n",
       "        vertical-align: top;\n",
       "    }\n",
       "\n",
       "    .dataframe thead tr th {\n",
       "        text-align: left;\n",
       "    }\n",
       "\n",
       "    .dataframe thead tr:last-of-type th {\n",
       "        text-align: right;\n",
       "    }\n",
       "</style>\n",
       "<table border=\"1\" class=\"dataframe\">\n",
       "  <thead>\n",
       "    <tr>\n",
       "      <th></th>\n",
       "      <th colspan=\"5\" halign=\"left\">AGG</th>\n",
       "      <th colspan=\"5\" halign=\"left\">SPY</th>\n",
       "    </tr>\n",
       "    <tr>\n",
       "      <th></th>\n",
       "      <th>open</th>\n",
       "      <th>high</th>\n",
       "      <th>low</th>\n",
       "      <th>close</th>\n",
       "      <th>volume</th>\n",
       "      <th>open</th>\n",
       "      <th>high</th>\n",
       "      <th>low</th>\n",
       "      <th>close</th>\n",
       "      <th>volume</th>\n",
       "    </tr>\n",
       "    <tr>\n",
       "      <th>time</th>\n",
       "      <th></th>\n",
       "      <th></th>\n",
       "      <th></th>\n",
       "      <th></th>\n",
       "      <th></th>\n",
       "      <th></th>\n",
       "      <th></th>\n",
       "      <th></th>\n",
       "      <th></th>\n",
       "      <th></th>\n",
       "    </tr>\n",
       "  </thead>\n",
       "  <tbody>\n",
       "    <tr>\n",
       "      <th>2021-11-19 00:00:00-05:00</th>\n",
       "      <td>114.49</td>\n",
       "      <td>114.59</td>\n",
       "      <td>114.415</td>\n",
       "      <td>114.45</td>\n",
       "      <td>4843203</td>\n",
       "      <td>469.61</td>\n",
       "      <td>470.94</td>\n",
       "      <td>468.5</td>\n",
       "      <td>468.91</td>\n",
       "      <td>49009452</td>\n",
       "    </tr>\n",
       "  </tbody>\n",
       "</table>\n",
       "</div>"
      ],
      "text/plain": [
       "                              AGG                                       SPY  \\\n",
       "                             open    high      low   close   volume    open   \n",
       "time                                                                          \n",
       "2021-11-19 00:00:00-05:00  114.49  114.59  114.415  114.45  4843203  469.61   \n",
       "\n",
       "                                                            \n",
       "                             high    low   close    volume  \n",
       "time                                                        \n",
       "2021-11-19 00:00:00-05:00  470.94  468.5  468.91  49009452  "
      ]
     },
     "execution_count": 16,
     "metadata": {},
     "output_type": "execute_result"
    }
   ],
   "source": [
    "# Use the Alpaca get_barset function to get current closing prices the portfolio\n",
    "# Be sure to set the `df` property after the function to format the response object as a DataFrame\n",
    "# YOUR CODE HERE\n",
    "df_portfolio = alpaca.get_barset(\n",
    "    tickers,\n",
    "    timeframe,\n",
    "    start = start_date,\n",
    "    end = end_date\n",
    ").df\n",
    "# Review the first 5 rows of the Alpaca DataFrame\n",
    "df_portfolio.head()\n"
   ]
  },
  {
   "cell_type": "markdown",
   "metadata": {},
   "source": [
    "#### Step 5: Navigating the Alpaca response DataFrame, select the `SPY` and `AGG` closing prices, and store them as variables."
   ]
  },
  {
   "cell_type": "code",
   "execution_count": 17,
   "metadata": {},
   "outputs": [
    {
     "data": {
      "text/plain": [
       "114.45"
      ]
     },
     "execution_count": 17,
     "metadata": {},
     "output_type": "execute_result"
    }
   ],
   "source": [
    "# Access the closing price for AGG from the Alpaca DataFrame\n",
    "# Converting the value to a floating point number\n",
    "agg_close_price = df_portfolio.loc[:,[('AGG', 'close')]].iloc[:,0][0]\n",
    "\n",
    "# Print the AGG closing price\n",
    "agg_close_price\n"
   ]
  },
  {
   "cell_type": "code",
   "execution_count": 18,
   "metadata": {},
   "outputs": [
    {
     "data": {
      "text/plain": [
       "468.91"
      ]
     },
     "execution_count": 18,
     "metadata": {},
     "output_type": "execute_result"
    }
   ],
   "source": [
    "# Access the closing price for SPY from the Alpaca DataFrame\n",
    "# Converting the value to a floating point number\n",
    "spy_close_price = df_portfolio.loc[:,[('SPY', 'close')]].iloc[:,0][0]\n",
    "\n",
    "# Print the SPY closing price\n",
    "spy_close_price"
   ]
  },
  {
   "cell_type": "markdown",
   "metadata": {},
   "source": [
    "#### Step 6: Calculate the value, in US dollars, of the current amount of shares in each of the stock and bond portions of the portfolio, and print the results."
   ]
  },
  {
   "cell_type": "code",
   "execution_count": 19,
   "metadata": {},
   "outputs": [
    {
     "data": {
      "text/plain": [
       "22890.0"
      ]
     },
     "execution_count": 19,
     "metadata": {},
     "output_type": "execute_result"
    }
   ],
   "source": [
    "# Calculate the current value of the bond portion of the portfolio\n",
    "agg_value = agg_shares*agg_close_price\n",
    "\n",
    "# Print the current value of the bond portfolio\n",
    "agg_value\n"
   ]
  },
  {
   "cell_type": "code",
   "execution_count": 20,
   "metadata": {},
   "outputs": [
    {
     "data": {
      "text/plain": [
       "51580.100000000006"
      ]
     },
     "execution_count": 20,
     "metadata": {},
     "output_type": "execute_result"
    }
   ],
   "source": [
    "# Calculate the current value of the stock portion of the portfolio\n",
    "spy_value = spy_shares*spy_close_price\n",
    "\n",
    "# Print the current value of the stock portfolio\n",
    "spy_value\n"
   ]
  },
  {
   "cell_type": "code",
   "execution_count": 21,
   "metadata": {},
   "outputs": [
    {
     "data": {
      "text/plain": [
       "74470.1"
      ]
     },
     "execution_count": 21,
     "metadata": {},
     "output_type": "execute_result"
    }
   ],
   "source": [
    "# Calculate the total value of the stock and bond portion of the portfolio\n",
    "total_stocks_bonds = agg_value+spy_value\n",
    "\n",
    "# Print the current balance of the stock and bond portion of the portfolio\n",
    "total_stocks_bonds\n"
   ]
  },
  {
   "cell_type": "code",
   "execution_count": 22,
   "metadata": {},
   "outputs": [
    {
     "data": {
      "text/plain": [
       "165437.142"
      ]
     },
     "execution_count": 22,
     "metadata": {},
     "output_type": "execute_result"
    }
   ],
   "source": [
    "# Calculate the total value of the member's entire savings portfolio\n",
    "# Add the value of the cryptocurrency walled to the value of the total stocks and bonds\n",
    "total_portfolio = total_stocks_bonds+total_crypto_wallet\n",
    "\n",
    "# Print current cryptocurrency wallet balance\n",
    "total_portfolio\n"
   ]
  },
  {
   "cell_type": "markdown",
   "metadata": {},
   "source": [
    "### Evaluate the Emergency Fund\n"
   ]
  },
  {
   "cell_type": "markdown",
   "metadata": {},
   "source": [
    "#### Step 1: Create a Python list named `savings_data` that has two elements. The first element contains the total value of the cryptocurrency wallet. The second element contains the total value of the stock and bond portions of the portfolio."
   ]
  },
  {
   "cell_type": "code",
   "execution_count": 23,
   "metadata": {},
   "outputs": [
    {
     "data": {
      "text/plain": [
       "[90967.04199999999, 74470.1]"
      ]
     },
     "execution_count": 23,
     "metadata": {},
     "output_type": "execute_result"
    }
   ],
   "source": [
    "# Consolidate financial assets data into a Python list\n",
    "savings_data=[total_crypto_wallet,total_stocks_bonds]\n",
    "# Review the Python list savings_data\n",
    "savings_data\n",
    "    "
   ]
  },
  {
   "cell_type": "markdown",
   "metadata": {},
   "source": [
    "#### Step 2: Use the `savings_data` list to create a Pandas DataFrame named `savings_df`, and then display this DataFrame. The function to create the DataFrame should take the following three parameters:\n",
    "\n"
   ]
  },
  {
   "cell_type": "code",
   "execution_count": 48,
   "metadata": {},
   "outputs": [
    {
     "data": {
      "text/html": [
       "<div>\n",
       "<style scoped>\n",
       "    .dataframe tbody tr th:only-of-type {\n",
       "        vertical-align: middle;\n",
       "    }\n",
       "\n",
       "    .dataframe tbody tr th {\n",
       "        vertical-align: top;\n",
       "    }\n",
       "\n",
       "    .dataframe thead th {\n",
       "        text-align: right;\n",
       "    }\n",
       "</style>\n",
       "<table border=\"1\" class=\"dataframe\">\n",
       "  <thead>\n",
       "    <tr style=\"text-align: right;\">\n",
       "      <th></th>\n",
       "      <th>amount</th>\n",
       "    </tr>\n",
       "  </thead>\n",
       "  <tbody>\n",
       "    <tr>\n",
       "      <th>crypto</th>\n",
       "      <td>90967.042</td>\n",
       "    </tr>\n",
       "    <tr>\n",
       "      <th>stock/bond</th>\n",
       "      <td>74470.100</td>\n",
       "    </tr>\n",
       "  </tbody>\n",
       "</table>\n",
       "</div>"
      ],
      "text/plain": [
       "               amount\n",
       "crypto      90967.042\n",
       "stock/bond  74470.100"
      ]
     },
     "execution_count": 48,
     "metadata": {},
     "output_type": "execute_result"
    }
   ],
   "source": [
    "# Create a Pandas DataFrame called savings_df \n",
    "savings_df=pd.DataFrame(savings_data,index=['crypto','stock/bond'],columns=['amount'])\n",
    "\n",
    "# Display the savings_df DataFrame\n",
    "savings_df\n"
   ]
  },
  {
   "cell_type": "markdown",
   "metadata": {},
   "source": [
    "#### Step 3: Use the `savings_df` DataFrame to plot a pie chart that visualizes the composition of the member’s portfolio. The y-axis of the pie chart uses `amount`. Be sure to add a title."
   ]
  },
  {
   "cell_type": "code",
   "execution_count": 49,
   "metadata": {},
   "outputs": [
    {
     "data": {
      "text/plain": [
       "<AxesSubplot:title={'center':'portfolio breakdown'}, ylabel='amount'>"
      ]
     },
     "execution_count": 49,
     "metadata": {},
     "output_type": "execute_result"
    },
    {
     "data": {
      "image/png": "[encoded data removed]",
      "text/plain": [
       "<Figure size 432x288 with 1 Axes>"
      ]
     },
     "metadata": {},
     "output_type": "display_data"
    }
   ],
   "source": [
    "savings_df.plot.pie(y='amount',title='portfolio breakdown')"
   ]
  },
  {
   "cell_type": "markdown",
   "metadata": {},
   "source": [
    "#### Step 4: Using Python, determine if the current portfolio has enough to create an emergency fund as part of the member’s financial plan. Ideally, an emergency fund should equal to three times the member’s monthly income. To do this, implement the following steps:\n"
   ]
  },
  {
   "cell_type": "markdown",
   "metadata": {},
   "source": [
    "##### Step 4-1: Create a variable named `emergency_fund_value`, and set it equal to three times the value of the member’s `monthly_income` of 12000. (You set this earlier in Part 1)."
   ]
  },
  {
   "cell_type": "code",
   "execution_count": 26,
   "metadata": {},
   "outputs": [
    {
     "data": {
      "text/plain": [
       "36000"
      ]
     },
     "execution_count": 26,
     "metadata": {},
     "output_type": "execute_result"
    }
   ],
   "source": [
    "# Create a variable named emergency_fund_value\n",
    "emergency_fund_value=monthly_income*3\n",
    "emergency_fund_value"
   ]
  },
  {
   "cell_type": "markdown",
   "metadata": {},
   "source": [
    "##### Step 4-2: Create a series of three if statements to determine if the member’s total portfolio is large enough to fund the emergency portfolio:\n",
    "\n",
    "* If the total portfolio value is greater than the emergency fund value, display a message congratulating the member for having enough money in this fund.\n",
    "\n",
    "* Else if the total portfolio value is equal to the emergency fund value, display a message congratulating the member on reaching this important financial goal.\n",
    "\n",
    "* Else the total portfolio is less than the emergency fund value, so display a message showing how many dollars away the member is from reaching the goal. (Subtract the total portfolio value from the emergency fund value.)"
   ]
  },
  {
   "cell_type": "code",
   "execution_count": 27,
   "metadata": {},
   "outputs": [
    {
     "name": "stdout",
     "output_type": "stream",
     "text": [
      "congrats you exceed the emergency fund\n"
     ]
    }
   ],
   "source": [
    "# Evaluate the possibility of creating an emergency fund with 3 conditions:\n",
    "if total_portfolio>emergency_fund_value:\n",
    "    print(\"congrats you exceed the emergency fund\")\n",
    "elif (total_portfolio==emergency_fund_value):\n",
    "    print(\"congrats you meet the emergency fund\")\n",
    "else :\n",
    "    print(\"you are\",emergency_fund_value-total_portfolio,\"away from the emergency fund requirement\")    "
   ]
  },
  {
   "cell_type": "markdown",
   "metadata": {},
   "source": [
    "## Part 2: Create a Financial Planner for Retirement"
   ]
  },
  {
   "cell_type": "markdown",
   "metadata": {},
   "source": [
    "### Create the Monte Carlo Simulation\n",
    "\n"
   ]
  },
  {
   "cell_type": "markdown",
   "metadata": {},
   "source": [
    "#### Step 1: Make an API call via the Alpaca SDK to get 3 years of historical closing prices for a traditional 60/40 portfolio split: 60% stocks (SPY) and 40% bonds (AGG)."
   ]
  },
  {
   "cell_type": "code",
   "execution_count": 28,
   "metadata": {},
   "outputs": [],
   "source": [
    "# Set start and end dates of 3 years back from your current date\n",
    "# Alternatively, you can use an end date of 2020-08-07 and work 3 years back from that date \n",
    "tickers=['SPY','AGG']\n",
    "timeframe = \"1D\"\n",
    "start_date = pd.Timestamp(\"2018-11-21\", tz=\"America/New_York\").isoformat()\n",
    "end_date = pd.Timestamp(\"2021-11-21\", tz=\"America/New_York\").isoformat()\n",
    "\n",
    "# Set number of rows to 1000 to retrieve the maximum amount of rows\n",
    "limit_rows = 1000\n"
   ]
  },
  {
   "cell_type": "code",
   "execution_count": 29,
   "metadata": {},
   "outputs": [
    {
     "data": {
      "text/plain": [
       "'2018-11-21T00:00:00-05:00'"
      ]
     },
     "execution_count": 29,
     "metadata": {},
     "output_type": "execute_result"
    }
   ],
   "source": [
    "start_date"
   ]
  },
  {
   "cell_type": "code",
   "execution_count": 30,
   "metadata": {},
   "outputs": [
    {
     "data": {
      "text/html": [
       "<div>\n",
       "<style scoped>\n",
       "    .dataframe tbody tr th:only-of-type {\n",
       "        vertical-align: middle;\n",
       "    }\n",
       "\n",
       "    .dataframe tbody tr th {\n",
       "        vertical-align: top;\n",
       "    }\n",
       "\n",
       "    .dataframe thead tr th {\n",
       "        text-align: left;\n",
       "    }\n",
       "\n",
       "    .dataframe thead tr:last-of-type th {\n",
       "        text-align: right;\n",
       "    }\n",
       "</style>\n",
       "<table border=\"1\" class=\"dataframe\">\n",
       "  <thead>\n",
       "    <tr>\n",
       "      <th></th>\n",
       "      <th colspan=\"5\" halign=\"left\">AGG</th>\n",
       "      <th colspan=\"5\" halign=\"left\">SPY</th>\n",
       "    </tr>\n",
       "    <tr>\n",
       "      <th></th>\n",
       "      <th>open</th>\n",
       "      <th>high</th>\n",
       "      <th>low</th>\n",
       "      <th>close</th>\n",
       "      <th>volume</th>\n",
       "      <th>open</th>\n",
       "      <th>high</th>\n",
       "      <th>low</th>\n",
       "      <th>close</th>\n",
       "      <th>volume</th>\n",
       "    </tr>\n",
       "    <tr>\n",
       "      <th>time</th>\n",
       "      <th></th>\n",
       "      <th></th>\n",
       "      <th></th>\n",
       "      <th></th>\n",
       "      <th></th>\n",
       "      <th></th>\n",
       "      <th></th>\n",
       "      <th></th>\n",
       "      <th></th>\n",
       "      <th></th>\n",
       "    </tr>\n",
       "  </thead>\n",
       "  <tbody>\n",
       "    <tr>\n",
       "      <th>2021-11-19 00:00:00-05:00</th>\n",
       "      <td>114.49</td>\n",
       "      <td>114.59</td>\n",
       "      <td>114.415</td>\n",
       "      <td>114.45</td>\n",
       "      <td>4843203</td>\n",
       "      <td>469.61</td>\n",
       "      <td>470.94</td>\n",
       "      <td>468.5</td>\n",
       "      <td>468.91</td>\n",
       "      <td>49009452</td>\n",
       "    </tr>\n",
       "  </tbody>\n",
       "</table>\n",
       "</div>"
      ],
      "text/plain": [
       "                              AGG                                       SPY  \\\n",
       "                             open    high      low   close   volume    open   \n",
       "time                                                                          \n",
       "2021-11-19 00:00:00-05:00  114.49  114.59  114.415  114.45  4843203  469.61   \n",
       "\n",
       "                                                            \n",
       "                             high    low   close    volume  \n",
       "time                                                        \n",
       "2021-11-19 00:00:00-05:00  470.94  468.5  468.91  49009452  "
      ]
     },
     "execution_count": 30,
     "metadata": {},
     "output_type": "execute_result"
    }
   ],
   "source": [
    "# Use the Alpaca get_barset function to make the API call to get the 3 years worth of pricing data\n",
    "# The tickers and timeframe parameters should have been set in Part 1 of this activity \n",
    "# The start and end dates should be updated with the information set above\n",
    "df_prices = alpaca.get_barset(\n",
    "    tickers,\n",
    "    timeframe,\n",
    "    start = start_date,\n",
    "    end = end_date,\n",
    "    limit=1000\n",
    ").df\n",
    "# Review the first 5 rows of the Alpaca DataFrame\n",
    "\n",
    "\n",
    "# Display both the first and last five rows of the DataFrame\n",
    "df_portfolio"
   ]
  },
  {
   "cell_type": "markdown",
   "metadata": {},
   "source": [
    "#### Step 2: Run a Monte Carlo simulation of 500 samples and 30 years for the 60/40 portfolio, and then plot the results."
   ]
  },
  {
   "cell_type": "code",
   "execution_count": 31,
   "metadata": {},
   "outputs": [
    {
     "data": {
      "text/html": [
       "<div>\n",
       "<style scoped>\n",
       "    .dataframe tbody tr th:only-of-type {\n",
       "        vertical-align: middle;\n",
       "    }\n",
       "\n",
       "    .dataframe tbody tr th {\n",
       "        vertical-align: top;\n",
       "    }\n",
       "\n",
       "    .dataframe thead tr th {\n",
       "        text-align: left;\n",
       "    }\n",
       "\n",
       "    .dataframe thead tr:last-of-type th {\n",
       "        text-align: right;\n",
       "    }\n",
       "</style>\n",
       "<table border=\"1\" class=\"dataframe\">\n",
       "  <thead>\n",
       "    <tr>\n",
       "      <th></th>\n",
       "      <th colspan=\"6\" halign=\"left\">AGG</th>\n",
       "      <th colspan=\"6\" halign=\"left\">SPY</th>\n",
       "    </tr>\n",
       "    <tr>\n",
       "      <th></th>\n",
       "      <th>open</th>\n",
       "      <th>high</th>\n",
       "      <th>low</th>\n",
       "      <th>close</th>\n",
       "      <th>volume</th>\n",
       "      <th>daily_return</th>\n",
       "      <th>open</th>\n",
       "      <th>high</th>\n",
       "      <th>low</th>\n",
       "      <th>close</th>\n",
       "      <th>volume</th>\n",
       "      <th>daily_return</th>\n",
       "    </tr>\n",
       "    <tr>\n",
       "      <th>time</th>\n",
       "      <th></th>\n",
       "      <th></th>\n",
       "      <th></th>\n",
       "      <th></th>\n",
       "      <th></th>\n",
       "      <th></th>\n",
       "      <th></th>\n",
       "      <th></th>\n",
       "      <th></th>\n",
       "      <th></th>\n",
       "      <th></th>\n",
       "      <th></th>\n",
       "    </tr>\n",
       "  </thead>\n",
       "  <tbody>\n",
       "    <tr>\n",
       "      <th>2018-11-21 00:00:00-05:00</th>\n",
       "      <td>104.60</td>\n",
       "      <td>104.69</td>\n",
       "      <td>104.58</td>\n",
       "      <td>104.680</td>\n",
       "      <td>5492705.0</td>\n",
       "      <td>NaN</td>\n",
       "      <td>265.86</td>\n",
       "      <td>267.1500</td>\n",
       "      <td>264.2527</td>\n",
       "      <td>265.08</td>\n",
       "      <td>64743156</td>\n",
       "      <td>NaN</td>\n",
       "    </tr>\n",
       "    <tr>\n",
       "      <th>2018-11-23 00:00:00-05:00</th>\n",
       "      <td>104.84</td>\n",
       "      <td>104.84</td>\n",
       "      <td>104.65</td>\n",
       "      <td>104.650</td>\n",
       "      <td>1536835.0</td>\n",
       "      <td>-0.000287</td>\n",
       "      <td>263.18</td>\n",
       "      <td>265.0662</td>\n",
       "      <td>263.0700</td>\n",
       "      <td>263.34</td>\n",
       "      <td>36245484</td>\n",
       "      <td>-0.006564</td>\n",
       "    </tr>\n",
       "    <tr>\n",
       "      <th>2018-11-26 00:00:00-05:00</th>\n",
       "      <td>104.67</td>\n",
       "      <td>104.67</td>\n",
       "      <td>104.59</td>\n",
       "      <td>104.630</td>\n",
       "      <td>3510989.0</td>\n",
       "      <td>-0.000191</td>\n",
       "      <td>265.78</td>\n",
       "      <td>268.2909</td>\n",
       "      <td>263.3652</td>\n",
       "      <td>267.46</td>\n",
       "      <td>67385154</td>\n",
       "      <td>0.015645</td>\n",
       "    </tr>\n",
       "    <tr>\n",
       "      <th>2018-11-27 00:00:00-05:00</th>\n",
       "      <td>104.58</td>\n",
       "      <td>104.74</td>\n",
       "      <td>104.58</td>\n",
       "      <td>104.660</td>\n",
       "      <td>3845971.0</td>\n",
       "      <td>0.000287</td>\n",
       "      <td>266.34</td>\n",
       "      <td>268.3700</td>\n",
       "      <td>265.6600</td>\n",
       "      <td>268.34</td>\n",
       "      <td>65180166</td>\n",
       "      <td>0.003290</td>\n",
       "    </tr>\n",
       "    <tr>\n",
       "      <th>2018-11-28 00:00:00-05:00</th>\n",
       "      <td>104.63</td>\n",
       "      <td>104.91</td>\n",
       "      <td>104.57</td>\n",
       "      <td>104.855</td>\n",
       "      <td>8221108.0</td>\n",
       "      <td>0.001863</td>\n",
       "      <td>269.60</td>\n",
       "      <td>275.1000</td>\n",
       "      <td>268.3272</td>\n",
       "      <td>274.50</td>\n",
       "      <td>111668695</td>\n",
       "      <td>0.022956</td>\n",
       "    </tr>\n",
       "  </tbody>\n",
       "</table>\n",
       "</div>"
      ],
      "text/plain": [
       "                              AGG                                      \\\n",
       "                             open    high     low    close     volume   \n",
       "time                                                                    \n",
       "2018-11-21 00:00:00-05:00  104.60  104.69  104.58  104.680  5492705.0   \n",
       "2018-11-23 00:00:00-05:00  104.84  104.84  104.65  104.650  1536835.0   \n",
       "2018-11-26 00:00:00-05:00  104.67  104.67  104.59  104.630  3510989.0   \n",
       "2018-11-27 00:00:00-05:00  104.58  104.74  104.58  104.660  3845971.0   \n",
       "2018-11-28 00:00:00-05:00  104.63  104.91  104.57  104.855  8221108.0   \n",
       "\n",
       "                                           SPY                              \\\n",
       "                          daily_return    open      high       low   close   \n",
       "time                                                                         \n",
       "2018-11-21 00:00:00-05:00          NaN  265.86  267.1500  264.2527  265.08   \n",
       "2018-11-23 00:00:00-05:00    -0.000287  263.18  265.0662  263.0700  263.34   \n",
       "2018-11-26 00:00:00-05:00    -0.000191  265.78  268.2909  263.3652  267.46   \n",
       "2018-11-27 00:00:00-05:00     0.000287  266.34  268.3700  265.6600  268.34   \n",
       "2018-11-28 00:00:00-05:00     0.001863  269.60  275.1000  268.3272  274.50   \n",
       "\n",
       "                                                   \n",
       "                              volume daily_return  \n",
       "time                                               \n",
       "2018-11-21 00:00:00-05:00   64743156          NaN  \n",
       "2018-11-23 00:00:00-05:00   36245484    -0.006564  \n",
       "2018-11-26 00:00:00-05:00   67385154     0.015645  \n",
       "2018-11-27 00:00:00-05:00   65180166     0.003290  \n",
       "2018-11-28 00:00:00-05:00  111668695     0.022956  "
      ]
     },
     "execution_count": 31,
     "metadata": {},
     "output_type": "execute_result"
    }
   ],
   "source": [
    "# Configure the Monte Carlo simulation to forecast 30 years cumulative returns\n",
    "# The weights should be split 40% to AGG and 60% to SPY.\n",
    "# Run 500 samples.\n",
    "MC_30year = MCSimulation(\n",
    "  portfolio_data = df_prices,\n",
    "  weights = [.40,.60],\n",
    "  num_simulation = 500,\n",
    "  num_trading_days = 252*30\n",
    ")\n",
    "# Review the simulation input data\n",
    "MC_30year.portfolio_data.head()\n"
   ]
  },
  {
   "cell_type": "code",
   "execution_count": 32,
   "metadata": {},
   "outputs": [
    {
     "name": "stdout",
     "output_type": "stream",
     "text": [
      "Running Monte Carlo simulation number 0.\n",
      "Running Monte Carlo simulation number 10.\n",
      "Running Monte Carlo simulation number 20.\n",
      "Running Monte Carlo simulation number 30.\n",
      "Running Monte Carlo simulation number 40.\n",
      "Running Monte Carlo simulation number 50.\n",
      "Running Monte Carlo simulation number 60.\n",
      "Running Monte Carlo simulation number 70.\n",
      "Running Monte Carlo simulation number 80.\n",
      "Running Monte Carlo simulation number 90.\n",
      "Running Monte Carlo simulation number 100.\n",
      "Running Monte Carlo simulation number 110.\n",
      "Running Monte Carlo simulation number 120.\n",
      "Running Monte Carlo simulation number 130.\n",
      "Running Monte Carlo simulation number 140.\n",
      "Running Monte Carlo simulation number 150.\n",
      "Running Monte Carlo simulation number 160.\n",
      "Running Monte Carlo simulation number 170.\n",
      "Running Monte Carlo simulation number 180.\n",
      "Running Monte Carlo simulation number 190.\n",
      "Running Monte Carlo simulation number 200.\n",
      "Running Monte Carlo simulation number 210.\n",
      "Running Monte Carlo simulation number 220.\n",
      "Running Monte Carlo simulation number 230.\n",
      "Running Monte Carlo simulation number 240.\n",
      "Running Monte Carlo simulation number 250.\n",
      "Running Monte Carlo simulation number 260.\n",
      "Running Monte Carlo simulation number 270.\n",
      "Running Monte Carlo simulation number 280.\n",
      "Running Monte Carlo simulation number 290.\n",
      "Running Monte Carlo simulation number 300.\n",
      "Running Monte Carlo simulation number 310.\n",
      "Running Monte Carlo simulation number 320.\n",
      "Running Monte Carlo simulation number 330.\n",
      "Running Monte Carlo simulation number 340.\n",
      "Running Monte Carlo simulation number 350.\n",
      "Running Monte Carlo simulation number 360.\n",
      "Running Monte Carlo simulation number 370.\n",
      "Running Monte Carlo simulation number 380.\n",
      "Running Monte Carlo simulation number 390.\n",
      "Running Monte Carlo simulation number 400.\n",
      "Running Monte Carlo simulation number 410.\n",
      "Running Monte Carlo simulation number 420.\n",
      "Running Monte Carlo simulation number 430.\n",
      "Running Monte Carlo simulation number 440.\n",
      "Running Monte Carlo simulation number 450.\n",
      "Running Monte Carlo simulation number 460.\n",
      "Running Monte Carlo simulation number 470.\n",
      "Running Monte Carlo simulation number 480.\n",
      "Running Monte Carlo simulation number 490.\n"
     ]
    },
    {
     "data": {
      "text/html": [
       "<div>\n",
       "<style scoped>\n",
       "    .dataframe tbody tr th:only-of-type {\n",
       "        vertical-align: middle;\n",
       "    }\n",
       "\n",
       "    .dataframe tbody tr th {\n",
       "        vertical-align: top;\n",
       "    }\n",
       "\n",
       "    .dataframe thead th {\n",
       "        text-align: right;\n",
       "    }\n",
       "</style>\n",
       "<table border=\"1\" class=\"dataframe\">\n",
       "  <thead>\n",
       "    <tr style=\"text-align: right;\">\n",
       "      <th></th>\n",
       "      <th>0</th>\n",
       "      <th>1</th>\n",
       "      <th>2</th>\n",
       "      <th>3</th>\n",
       "      <th>4</th>\n",
       "      <th>5</th>\n",
       "      <th>6</th>\n",
       "      <th>7</th>\n",
       "      <th>8</th>\n",
       "      <th>9</th>\n",
       "      <th>...</th>\n",
       "      <th>490</th>\n",
       "      <th>491</th>\n",
       "      <th>492</th>\n",
       "      <th>493</th>\n",
       "      <th>494</th>\n",
       "      <th>495</th>\n",
       "      <th>496</th>\n",
       "      <th>497</th>\n",
       "      <th>498</th>\n",
       "      <th>499</th>\n",
       "    </tr>\n",
       "  </thead>\n",
       "  <tbody>\n",
       "    <tr>\n",
       "      <th>0</th>\n",
       "      <td>1.000000</td>\n",
       "      <td>1.000000</td>\n",
       "      <td>1.000000</td>\n",
       "      <td>1.000000</td>\n",
       "      <td>1.000000</td>\n",
       "      <td>1.000000</td>\n",
       "      <td>1.000000</td>\n",
       "      <td>1.000000</td>\n",
       "      <td>1.000000</td>\n",
       "      <td>1.000000</td>\n",
       "      <td>...</td>\n",
       "      <td>1.000000</td>\n",
       "      <td>1.000000</td>\n",
       "      <td>1.000000</td>\n",
       "      <td>1.000000</td>\n",
       "      <td>1.000000</td>\n",
       "      <td>1.000000</td>\n",
       "      <td>1.000000</td>\n",
       "      <td>1.000000</td>\n",
       "      <td>1.000000</td>\n",
       "      <td>1.000000</td>\n",
       "    </tr>\n",
       "    <tr>\n",
       "      <th>1</th>\n",
       "      <td>0.996891</td>\n",
       "      <td>1.003809</td>\n",
       "      <td>0.999464</td>\n",
       "      <td>1.012963</td>\n",
       "      <td>1.004706</td>\n",
       "      <td>1.005257</td>\n",
       "      <td>0.991381</td>\n",
       "      <td>1.003463</td>\n",
       "      <td>1.007617</td>\n",
       "      <td>0.996055</td>\n",
       "      <td>...</td>\n",
       "      <td>1.007534</td>\n",
       "      <td>1.004053</td>\n",
       "      <td>1.007009</td>\n",
       "      <td>0.997612</td>\n",
       "      <td>1.002081</td>\n",
       "      <td>1.006375</td>\n",
       "      <td>1.001356</td>\n",
       "      <td>1.011563</td>\n",
       "      <td>0.993275</td>\n",
       "      <td>0.998522</td>\n",
       "    </tr>\n",
       "    <tr>\n",
       "      <th>2</th>\n",
       "      <td>0.997546</td>\n",
       "      <td>1.010845</td>\n",
       "      <td>1.003407</td>\n",
       "      <td>1.005978</td>\n",
       "      <td>1.018307</td>\n",
       "      <td>1.004046</td>\n",
       "      <td>0.996565</td>\n",
       "      <td>1.009041</td>\n",
       "      <td>0.994885</td>\n",
       "      <td>0.998973</td>\n",
       "      <td>...</td>\n",
       "      <td>1.002817</td>\n",
       "      <td>1.006550</td>\n",
       "      <td>0.998667</td>\n",
       "      <td>0.993238</td>\n",
       "      <td>1.013874</td>\n",
       "      <td>0.996048</td>\n",
       "      <td>1.007304</td>\n",
       "      <td>1.011521</td>\n",
       "      <td>0.999536</td>\n",
       "      <td>1.003324</td>\n",
       "    </tr>\n",
       "    <tr>\n",
       "      <th>3</th>\n",
       "      <td>0.989270</td>\n",
       "      <td>1.017483</td>\n",
       "      <td>1.001182</td>\n",
       "      <td>1.009531</td>\n",
       "      <td>1.014483</td>\n",
       "      <td>1.015447</td>\n",
       "      <td>0.985803</td>\n",
       "      <td>1.008507</td>\n",
       "      <td>0.994329</td>\n",
       "      <td>1.006152</td>\n",
       "      <td>...</td>\n",
       "      <td>0.995135</td>\n",
       "      <td>0.997679</td>\n",
       "      <td>1.002767</td>\n",
       "      <td>0.995640</td>\n",
       "      <td>1.005313</td>\n",
       "      <td>0.992749</td>\n",
       "      <td>0.995003</td>\n",
       "      <td>0.999468</td>\n",
       "      <td>0.997503</td>\n",
       "      <td>1.007514</td>\n",
       "    </tr>\n",
       "    <tr>\n",
       "      <th>4</th>\n",
       "      <td>0.977192</td>\n",
       "      <td>1.010164</td>\n",
       "      <td>1.005946</td>\n",
       "      <td>1.009394</td>\n",
       "      <td>1.003805</td>\n",
       "      <td>1.014871</td>\n",
       "      <td>0.997181</td>\n",
       "      <td>1.006212</td>\n",
       "      <td>0.992278</td>\n",
       "      <td>1.007180</td>\n",
       "      <td>...</td>\n",
       "      <td>0.988375</td>\n",
       "      <td>1.002051</td>\n",
       "      <td>1.004435</td>\n",
       "      <td>0.988052</td>\n",
       "      <td>1.024378</td>\n",
       "      <td>0.987123</td>\n",
       "      <td>0.997388</td>\n",
       "      <td>0.999060</td>\n",
       "      <td>0.992486</td>\n",
       "      <td>1.013195</td>\n",
       "    </tr>\n",
       "    <tr>\n",
       "      <th>...</th>\n",
       "      <td>...</td>\n",
       "      <td>...</td>\n",
       "      <td>...</td>\n",
       "      <td>...</td>\n",
       "      <td>...</td>\n",
       "      <td>...</td>\n",
       "      <td>...</td>\n",
       "      <td>...</td>\n",
       "      <td>...</td>\n",
       "      <td>...</td>\n",
       "      <td>...</td>\n",
       "      <td>...</td>\n",
       "      <td>...</td>\n",
       "      <td>...</td>\n",
       "      <td>...</td>\n",
       "      <td>...</td>\n",
       "      <td>...</td>\n",
       "      <td>...</td>\n",
       "      <td>...</td>\n",
       "      <td>...</td>\n",
       "      <td>...</td>\n",
       "    </tr>\n",
       "    <tr>\n",
       "      <th>7556</th>\n",
       "      <td>99.239041</td>\n",
       "      <td>35.408479</td>\n",
       "      <td>60.103257</td>\n",
       "      <td>386.604723</td>\n",
       "      <td>32.827738</td>\n",
       "      <td>44.469416</td>\n",
       "      <td>105.032915</td>\n",
       "      <td>127.391156</td>\n",
       "      <td>18.226039</td>\n",
       "      <td>47.452690</td>\n",
       "      <td>...</td>\n",
       "      <td>28.644182</td>\n",
       "      <td>39.879185</td>\n",
       "      <td>102.554801</td>\n",
       "      <td>73.092822</td>\n",
       "      <td>64.301625</td>\n",
       "      <td>25.290358</td>\n",
       "      <td>96.028506</td>\n",
       "      <td>24.745398</td>\n",
       "      <td>63.501089</td>\n",
       "      <td>52.566829</td>\n",
       "    </tr>\n",
       "    <tr>\n",
       "      <th>7557</th>\n",
       "      <td>99.082968</td>\n",
       "      <td>35.432816</td>\n",
       "      <td>59.616900</td>\n",
       "      <td>387.899720</td>\n",
       "      <td>33.232404</td>\n",
       "      <td>44.615241</td>\n",
       "      <td>106.479873</td>\n",
       "      <td>126.569972</td>\n",
       "      <td>18.208512</td>\n",
       "      <td>46.993552</td>\n",
       "      <td>...</td>\n",
       "      <td>28.142503</td>\n",
       "      <td>40.132737</td>\n",
       "      <td>102.572213</td>\n",
       "      <td>71.707174</td>\n",
       "      <td>64.302566</td>\n",
       "      <td>25.569672</td>\n",
       "      <td>95.874595</td>\n",
       "      <td>24.772173</td>\n",
       "      <td>64.034658</td>\n",
       "      <td>52.273721</td>\n",
       "    </tr>\n",
       "    <tr>\n",
       "      <th>7558</th>\n",
       "      <td>98.446572</td>\n",
       "      <td>35.192239</td>\n",
       "      <td>59.050846</td>\n",
       "      <td>388.463166</td>\n",
       "      <td>33.733616</td>\n",
       "      <td>44.802686</td>\n",
       "      <td>105.504379</td>\n",
       "      <td>126.723804</td>\n",
       "      <td>18.180802</td>\n",
       "      <td>47.788817</td>\n",
       "      <td>...</td>\n",
       "      <td>28.369247</td>\n",
       "      <td>39.931006</td>\n",
       "      <td>103.217679</td>\n",
       "      <td>70.899231</td>\n",
       "      <td>64.271972</td>\n",
       "      <td>25.615827</td>\n",
       "      <td>96.543771</td>\n",
       "      <td>25.078932</td>\n",
       "      <td>64.126525</td>\n",
       "      <td>52.828320</td>\n",
       "    </tr>\n",
       "    <tr>\n",
       "      <th>7559</th>\n",
       "      <td>98.921613</td>\n",
       "      <td>35.477406</td>\n",
       "      <td>58.169131</td>\n",
       "      <td>385.877191</td>\n",
       "      <td>34.164147</td>\n",
       "      <td>45.572126</td>\n",
       "      <td>103.868836</td>\n",
       "      <td>125.939883</td>\n",
       "      <td>18.298272</td>\n",
       "      <td>48.210724</td>\n",
       "      <td>...</td>\n",
       "      <td>28.360971</td>\n",
       "      <td>40.092769</td>\n",
       "      <td>105.268671</td>\n",
       "      <td>70.196711</td>\n",
       "      <td>64.147526</td>\n",
       "      <td>25.636855</td>\n",
       "      <td>96.245135</td>\n",
       "      <td>25.256589</td>\n",
       "      <td>63.255805</td>\n",
       "      <td>51.933632</td>\n",
       "    </tr>\n",
       "    <tr>\n",
       "      <th>7560</th>\n",
       "      <td>99.480676</td>\n",
       "      <td>35.691507</td>\n",
       "      <td>57.533977</td>\n",
       "      <td>386.319657</td>\n",
       "      <td>34.924309</td>\n",
       "      <td>45.596050</td>\n",
       "      <td>103.500104</td>\n",
       "      <td>126.005829</td>\n",
       "      <td>18.109459</td>\n",
       "      <td>48.467843</td>\n",
       "      <td>...</td>\n",
       "      <td>28.010318</td>\n",
       "      <td>40.136051</td>\n",
       "      <td>104.697004</td>\n",
       "      <td>69.535125</td>\n",
       "      <td>63.107383</td>\n",
       "      <td>25.316083</td>\n",
       "      <td>96.046071</td>\n",
       "      <td>25.379866</td>\n",
       "      <td>63.824575</td>\n",
       "      <td>51.512247</td>\n",
       "    </tr>\n",
       "  </tbody>\n",
       "</table>\n",
       "<p>7561 rows × 500 columns</p>\n",
       "</div>"
      ],
      "text/plain": [
       "            0          1          2           3          4          5    \\\n",
       "0      1.000000   1.000000   1.000000    1.000000   1.000000   1.000000   \n",
       "1      0.996891   1.003809   0.999464    1.012963   1.004706   1.005257   \n",
       "2      0.997546   1.010845   1.003407    1.005978   1.018307   1.004046   \n",
       "3      0.989270   1.017483   1.001182    1.009531   1.014483   1.015447   \n",
       "4      0.977192   1.010164   1.005946    1.009394   1.003805   1.014871   \n",
       "...         ...        ...        ...         ...        ...        ...   \n",
       "7556  99.239041  35.408479  60.103257  386.604723  32.827738  44.469416   \n",
       "7557  99.082968  35.432816  59.616900  387.899720  33.232404  44.615241   \n",
       "7558  98.446572  35.192239  59.050846  388.463166  33.733616  44.802686   \n",
       "7559  98.921613  35.477406  58.169131  385.877191  34.164147  45.572126   \n",
       "7560  99.480676  35.691507  57.533977  386.319657  34.924309  45.596050   \n",
       "\n",
       "             6           7          8          9    ...        490        491  \\\n",
       "0       1.000000    1.000000   1.000000   1.000000  ...   1.000000   1.000000   \n",
       "1       0.991381    1.003463   1.007617   0.996055  ...   1.007534   1.004053   \n",
       "2       0.996565    1.009041   0.994885   0.998973  ...   1.002817   1.006550   \n",
       "3       0.985803    1.008507   0.994329   1.006152  ...   0.995135   0.997679   \n",
       "4       0.997181    1.006212   0.992278   1.007180  ...   0.988375   1.002051   \n",
       "...          ...         ...        ...        ...  ...        ...        ...   \n",
       "7556  105.032915  127.391156  18.226039  47.452690  ...  28.644182  39.879185   \n",
       "7557  106.479873  126.569972  18.208512  46.993552  ...  28.142503  40.132737   \n",
       "7558  105.504379  126.723804  18.180802  47.788817  ...  28.369247  39.931006   \n",
       "7559  103.868836  125.939883  18.298272  48.210724  ...  28.360971  40.092769   \n",
       "7560  103.500104  126.005829  18.109459  48.467843  ...  28.010318  40.136051   \n",
       "\n",
       "             492        493        494        495        496        497  \\\n",
       "0       1.000000   1.000000   1.000000   1.000000   1.000000   1.000000   \n",
       "1       1.007009   0.997612   1.002081   1.006375   1.001356   1.011563   \n",
       "2       0.998667   0.993238   1.013874   0.996048   1.007304   1.011521   \n",
       "3       1.002767   0.995640   1.005313   0.992749   0.995003   0.999468   \n",
       "4       1.004435   0.988052   1.024378   0.987123   0.997388   0.999060   \n",
       "...          ...        ...        ...        ...        ...        ...   \n",
       "7556  102.554801  73.092822  64.301625  25.290358  96.028506  24.745398   \n",
       "7557  102.572213  71.707174  64.302566  25.569672  95.874595  24.772173   \n",
       "7558  103.217679  70.899231  64.271972  25.615827  96.543771  25.078932   \n",
       "7559  105.268671  70.196711  64.147526  25.636855  96.245135  25.256589   \n",
       "7560  104.697004  69.535125  63.107383  25.316083  96.046071  25.379866   \n",
       "\n",
       "            498        499  \n",
       "0      1.000000   1.000000  \n",
       "1      0.993275   0.998522  \n",
       "2      0.999536   1.003324  \n",
       "3      0.997503   1.007514  \n",
       "4      0.992486   1.013195  \n",
       "...         ...        ...  \n",
       "7556  63.501089  52.566829  \n",
       "7557  64.034658  52.273721  \n",
       "7558  64.126525  52.828320  \n",
       "7559  63.255805  51.933632  \n",
       "7560  63.824575  51.512247  \n",
       "\n",
       "[7561 rows x 500 columns]"
      ]
     },
     "execution_count": 32,
     "metadata": {},
     "output_type": "execute_result"
    }
   ],
   "source": [
    "# Run the Monte Carlo simulation to forecast 30 years cumulative returns\n",
    "MC_30year.calc_cumulative_return()"
   ]
  },
  {
   "cell_type": "code",
   "execution_count": 33,
   "metadata": {},
   "outputs": [
    {
     "data": {
      "image/png": "[encoded data removed]",
      "text/plain": [
       "<Figure size 432x288 with 1 Axes>"
      ]
     },
     "metadata": {
      "needs_background": "light"
     },
     "output_type": "display_data"
    }
   ],
   "source": [
    "# Visualize the 30-year Monte Carlo simulation by creating an\n",
    "# overlay line plot\n",
    "MC_sim_line_plot = MC_30year.plot_simulation()\n",
    "\n"
   ]
  },
  {
   "cell_type": "markdown",
   "metadata": {},
   "source": [
    "#### Step 3: Plot the probability distribution of the Monte Carlo simulation."
   ]
  },
  {
   "cell_type": "code",
   "execution_count": 34,
   "metadata": {},
   "outputs": [
    {
     "data": {
      "image/png": "[encoded data removed]",
      "text/plain": [
       "<Figure size 432x288 with 1 Axes>"
      ]
     },
     "metadata": {
      "needs_background": "light"
     },
     "output_type": "display_data"
    }
   ],
   "source": [
    "# Visualize the probability distribution of the 30-year Monte Carlo simulation \n",
    "# by plotting a histogram\n",
    "MC_sim_dist_plot = MC_30year.plot_distribution()"
   ]
  },
  {
   "cell_type": "markdown",
   "metadata": {},
   "source": [
    "#### Step 4: Generate the summary statistics for the Monte Carlo simulation."
   ]
  },
  {
   "cell_type": "code",
   "execution_count": 35,
   "metadata": {},
   "outputs": [
    {
     "name": "stdout",
     "output_type": "stream",
     "text": [
      "count           500.000000\n",
      "mean             75.949218\n",
      "std              65.729520\n",
      "min               7.602785\n",
      "25%              35.272866\n",
      "50%              57.085995\n",
      "75%              90.812772\n",
      "max             496.014872\n",
      "95% CI Lower     12.870526\n",
      "95% CI Upper    251.494860\n",
      "Name: 7560, dtype: float64\n"
     ]
    }
   ],
   "source": [
    "# Generate summary statistics from the 30-year Monte Carlo simulation results\n",
    "# Save the results as a variable\n",
    "MC_summary_statistics = MC_30year.summarize_cumulative_return()\n",
    "\n",
    "\n",
    "# Review the 30-year Monte Carlo summary statistics\n",
    "print(MC_summary_statistics)"
   ]
  },
  {
   "cell_type": "markdown",
   "metadata": {},
   "source": [
    "### Analyze the Retirement Portfolio Forecasts\n",
    "\n",
    "Using the current value of only the stock and bond portion of the member's portfolio and the summary statistics that you generated from the Monte Carlo simulation, answer the following question in your Jupyter notebook:\n",
    "\n",
    "-  What are the lower and upper bounds for the expected value of the portfolio with a 95% confidence interval?\n"
   ]
  },
  {
   "cell_type": "code",
   "execution_count": 36,
   "metadata": {},
   "outputs": [
    {
     "name": "stdout",
     "output_type": "stream",
     "text": [
      "Stock: 51580.100000000006\n",
      "Bond: 22890.0\n",
      "Total: 74470.1\n"
     ]
    }
   ],
   "source": [
    "# Print the current balance of the stock and bond portion of the members portfolio\n",
    "print(\"Stock:\",spy_value)\n",
    "print(\"Bond:\",agg_value)\n",
    "print(\"Total:\",total_stocks_bonds)"
   ]
  },
  {
   "cell_type": "code",
   "execution_count": 37,
   "metadata": {},
   "outputs": [
    {
     "name": "stdout",
     "output_type": "stream",
     "text": [
      "lower: 958469.3833549588\n",
      "higher: 18728847.3572548\n"
     ]
    }
   ],
   "source": [
    "# Use the lower and upper `95%` confidence intervals to calculate the range of the possible outcomes for the current stock/bond portfolio\n",
    "ci_lower_thirty_cumulative_return = MC_summary_statistics[8]*total_stocks_bonds\n",
    "ci_upper_thirty_cumulative_return = MC_summary_statistics[9]*total_stocks_bonds\n",
    "\n",
    "# Print the result of your calculations\n",
    "print(\"lower:\",ci_lower_thirty_cumulative_return)\n",
    "print(\"higher:\",ci_upper_thirty_cumulative_return)"
   ]
  },
  {
   "cell_type": "markdown",
   "metadata": {},
   "source": [
    "### Forecast Cumulative Returns in 10 Years\n",
    "\n",
    "The CTO of the credit union is impressed with your work on these planning tools but wonders if 30 years is a long time to wait until retirement. So, your next task is to adjust the retirement portfolio and run a new Monte Carlo simulation to find out if the changes will allow members to retire earlier.\n",
    "\n",
    "For this new Monte Carlo simulation, do the following: \n",
    "\n",
    "- Forecast the cumulative returns for 10 years from now. Because of the shortened investment horizon (30 years to 10 years), the portfolio needs to invest more heavily in the riskier asset&mdash;that is, stock&mdash;to help accumulate wealth for retirement. \n",
    "\n",
    "- Adjust the weights of the retirement portfolio so that the composition for the Monte Carlo simulation consists of 20% bonds and 80% stocks. \n",
    "\n",
    "- Run the simulation over 500 samples, and use the same data that the API call to Alpaca generated.\n",
    "\n",
    "- Based on the new Monte Carlo simulation, answer the following questions in your Jupyter notebook:\n",
    "\n",
    "    - Using the current value of only the stock and bond portion of the member's portfolio and the summary statistics that you generated from the new Monte Carlo simulation, what are the lower and upper bounds for the expected value of the portfolio (with the new weights) with a 95% confidence interval?\n",
    "\n",
    "    - Will weighting the portfolio more heavily toward stocks allow the credit union members to retire after only 10 years?\n"
   ]
  },
  {
   "cell_type": "code",
   "execution_count": 38,
   "metadata": {},
   "outputs": [
    {
     "data": {
      "text/html": [
       "<div>\n",
       "<style scoped>\n",
       "    .dataframe tbody tr th:only-of-type {\n",
       "        vertical-align: middle;\n",
       "    }\n",
       "\n",
       "    .dataframe tbody tr th {\n",
       "        vertical-align: top;\n",
       "    }\n",
       "\n",
       "    .dataframe thead tr th {\n",
       "        text-align: left;\n",
       "    }\n",
       "\n",
       "    .dataframe thead tr:last-of-type th {\n",
       "        text-align: right;\n",
       "    }\n",
       "</style>\n",
       "<table border=\"1\" class=\"dataframe\">\n",
       "  <thead>\n",
       "    <tr>\n",
       "      <th></th>\n",
       "      <th colspan=\"6\" halign=\"left\">AGG</th>\n",
       "      <th colspan=\"6\" halign=\"left\">SPY</th>\n",
       "    </tr>\n",
       "    <tr>\n",
       "      <th></th>\n",
       "      <th>open</th>\n",
       "      <th>high</th>\n",
       "      <th>low</th>\n",
       "      <th>close</th>\n",
       "      <th>volume</th>\n",
       "      <th>daily_return</th>\n",
       "      <th>open</th>\n",
       "      <th>high</th>\n",
       "      <th>low</th>\n",
       "      <th>close</th>\n",
       "      <th>volume</th>\n",
       "      <th>daily_return</th>\n",
       "    </tr>\n",
       "    <tr>\n",
       "      <th>time</th>\n",
       "      <th></th>\n",
       "      <th></th>\n",
       "      <th></th>\n",
       "      <th></th>\n",
       "      <th></th>\n",
       "      <th></th>\n",
       "      <th></th>\n",
       "      <th></th>\n",
       "      <th></th>\n",
       "      <th></th>\n",
       "      <th></th>\n",
       "      <th></th>\n",
       "    </tr>\n",
       "  </thead>\n",
       "  <tbody>\n",
       "    <tr>\n",
       "      <th>2018-11-21 00:00:00-05:00</th>\n",
       "      <td>104.60</td>\n",
       "      <td>104.69</td>\n",
       "      <td>104.58</td>\n",
       "      <td>104.680</td>\n",
       "      <td>5492705.0</td>\n",
       "      <td>NaN</td>\n",
       "      <td>265.86</td>\n",
       "      <td>267.1500</td>\n",
       "      <td>264.2527</td>\n",
       "      <td>265.08</td>\n",
       "      <td>64743156</td>\n",
       "      <td>NaN</td>\n",
       "    </tr>\n",
       "    <tr>\n",
       "      <th>2018-11-23 00:00:00-05:00</th>\n",
       "      <td>104.84</td>\n",
       "      <td>104.84</td>\n",
       "      <td>104.65</td>\n",
       "      <td>104.650</td>\n",
       "      <td>1536835.0</td>\n",
       "      <td>-0.000287</td>\n",
       "      <td>263.18</td>\n",
       "      <td>265.0662</td>\n",
       "      <td>263.0700</td>\n",
       "      <td>263.34</td>\n",
       "      <td>36245484</td>\n",
       "      <td>-0.006564</td>\n",
       "    </tr>\n",
       "    <tr>\n",
       "      <th>2018-11-26 00:00:00-05:00</th>\n",
       "      <td>104.67</td>\n",
       "      <td>104.67</td>\n",
       "      <td>104.59</td>\n",
       "      <td>104.630</td>\n",
       "      <td>3510989.0</td>\n",
       "      <td>-0.000191</td>\n",
       "      <td>265.78</td>\n",
       "      <td>268.2909</td>\n",
       "      <td>263.3652</td>\n",
       "      <td>267.46</td>\n",
       "      <td>67385154</td>\n",
       "      <td>0.015645</td>\n",
       "    </tr>\n",
       "    <tr>\n",
       "      <th>2018-11-27 00:00:00-05:00</th>\n",
       "      <td>104.58</td>\n",
       "      <td>104.74</td>\n",
       "      <td>104.58</td>\n",
       "      <td>104.660</td>\n",
       "      <td>3845971.0</td>\n",
       "      <td>0.000287</td>\n",
       "      <td>266.34</td>\n",
       "      <td>268.3700</td>\n",
       "      <td>265.6600</td>\n",
       "      <td>268.34</td>\n",
       "      <td>65180166</td>\n",
       "      <td>0.003290</td>\n",
       "    </tr>\n",
       "    <tr>\n",
       "      <th>2018-11-28 00:00:00-05:00</th>\n",
       "      <td>104.63</td>\n",
       "      <td>104.91</td>\n",
       "      <td>104.57</td>\n",
       "      <td>104.855</td>\n",
       "      <td>8221108.0</td>\n",
       "      <td>0.001863</td>\n",
       "      <td>269.60</td>\n",
       "      <td>275.1000</td>\n",
       "      <td>268.3272</td>\n",
       "      <td>274.50</td>\n",
       "      <td>111668695</td>\n",
       "      <td>0.022956</td>\n",
       "    </tr>\n",
       "  </tbody>\n",
       "</table>\n",
       "</div>"
      ],
      "text/plain": [
       "                              AGG                                      \\\n",
       "                             open    high     low    close     volume   \n",
       "time                                                                    \n",
       "2018-11-21 00:00:00-05:00  104.60  104.69  104.58  104.680  5492705.0   \n",
       "2018-11-23 00:00:00-05:00  104.84  104.84  104.65  104.650  1536835.0   \n",
       "2018-11-26 00:00:00-05:00  104.67  104.67  104.59  104.630  3510989.0   \n",
       "2018-11-27 00:00:00-05:00  104.58  104.74  104.58  104.660  3845971.0   \n",
       "2018-11-28 00:00:00-05:00  104.63  104.91  104.57  104.855  8221108.0   \n",
       "\n",
       "                                           SPY                              \\\n",
       "                          daily_return    open      high       low   close   \n",
       "time                                                                         \n",
       "2018-11-21 00:00:00-05:00          NaN  265.86  267.1500  264.2527  265.08   \n",
       "2018-11-23 00:00:00-05:00    -0.000287  263.18  265.0662  263.0700  263.34   \n",
       "2018-11-26 00:00:00-05:00    -0.000191  265.78  268.2909  263.3652  267.46   \n",
       "2018-11-27 00:00:00-05:00     0.000287  266.34  268.3700  265.6600  268.34   \n",
       "2018-11-28 00:00:00-05:00     0.001863  269.60  275.1000  268.3272  274.50   \n",
       "\n",
       "                                                   \n",
       "                              volume daily_return  \n",
       "time                                               \n",
       "2018-11-21 00:00:00-05:00   64743156          NaN  \n",
       "2018-11-23 00:00:00-05:00   36245484    -0.006564  \n",
       "2018-11-26 00:00:00-05:00   67385154     0.015645  \n",
       "2018-11-27 00:00:00-05:00   65180166     0.003290  \n",
       "2018-11-28 00:00:00-05:00  111668695     0.022956  "
      ]
     },
     "execution_count": 38,
     "metadata": {},
     "output_type": "execute_result"
    }
   ],
   "source": [
    "# Configure a Monte Carlo simulation to forecast 10 years cumulative returns\n",
    "MC_10year = MCSimulation(\n",
    "  portfolio_data = df_prices,\n",
    "  weights = [.20,.80],\n",
    "  num_simulation = 500,\n",
    "  num_trading_days = 252*10\n",
    ")\n",
    "# Review the simulation input data\n",
    "MC_10year.portfolio_data.head()\n"
   ]
  },
  {
   "cell_type": "code",
   "execution_count": 39,
   "metadata": {},
   "outputs": [
    {
     "name": "stdout",
     "output_type": "stream",
     "text": [
      "Running Monte Carlo simulation number 0.\n",
      "Running Monte Carlo simulation number 10.\n",
      "Running Monte Carlo simulation number 20.\n",
      "Running Monte Carlo simulation number 30.\n",
      "Running Monte Carlo simulation number 40.\n",
      "Running Monte Carlo simulation number 50.\n",
      "Running Monte Carlo simulation number 60.\n",
      "Running Monte Carlo simulation number 70.\n",
      "Running Monte Carlo simulation number 80.\n",
      "Running Monte Carlo simulation number 90.\n",
      "Running Monte Carlo simulation number 100.\n",
      "Running Monte Carlo simulation number 110.\n",
      "Running Monte Carlo simulation number 120.\n",
      "Running Monte Carlo simulation number 130.\n",
      "Running Monte Carlo simulation number 140.\n",
      "Running Monte Carlo simulation number 150.\n",
      "Running Monte Carlo simulation number 160.\n",
      "Running Monte Carlo simulation number 170.\n",
      "Running Monte Carlo simulation number 180.\n",
      "Running Monte Carlo simulation number 190.\n",
      "Running Monte Carlo simulation number 200.\n",
      "Running Monte Carlo simulation number 210.\n",
      "Running Monte Carlo simulation number 220.\n",
      "Running Monte Carlo simulation number 230.\n",
      "Running Monte Carlo simulation number 240.\n",
      "Running Monte Carlo simulation number 250.\n",
      "Running Monte Carlo simulation number 260.\n",
      "Running Monte Carlo simulation number 270.\n",
      "Running Monte Carlo simulation number 280.\n",
      "Running Monte Carlo simulation number 290.\n",
      "Running Monte Carlo simulation number 300.\n",
      "Running Monte Carlo simulation number 310.\n",
      "Running Monte Carlo simulation number 320.\n",
      "Running Monte Carlo simulation number 330.\n",
      "Running Monte Carlo simulation number 340.\n",
      "Running Monte Carlo simulation number 350.\n",
      "Running Monte Carlo simulation number 360.\n",
      "Running Monte Carlo simulation number 370.\n",
      "Running Monte Carlo simulation number 380.\n",
      "Running Monte Carlo simulation number 390.\n",
      "Running Monte Carlo simulation number 400.\n",
      "Running Monte Carlo simulation number 410.\n",
      "Running Monte Carlo simulation number 420.\n",
      "Running Monte Carlo simulation number 430.\n",
      "Running Monte Carlo simulation number 440.\n",
      "Running Monte Carlo simulation number 450.\n",
      "Running Monte Carlo simulation number 460.\n",
      "Running Monte Carlo simulation number 470.\n",
      "Running Monte Carlo simulation number 480.\n",
      "Running Monte Carlo simulation number 490.\n"
     ]
    },
    {
     "data": {
      "text/html": [
       "<div>\n",
       "<style scoped>\n",
       "    .dataframe tbody tr th:only-of-type {\n",
       "        vertical-align: middle;\n",
       "    }\n",
       "\n",
       "    .dataframe tbody tr th {\n",
       "        vertical-align: top;\n",
       "    }\n",
       "\n",
       "    .dataframe thead th {\n",
       "        text-align: right;\n",
       "    }\n",
       "</style>\n",
       "<table border=\"1\" class=\"dataframe\">\n",
       "  <thead>\n",
       "    <tr style=\"text-align: right;\">\n",
       "      <th></th>\n",
       "      <th>0</th>\n",
       "      <th>1</th>\n",
       "      <th>2</th>\n",
       "      <th>3</th>\n",
       "      <th>4</th>\n",
       "      <th>5</th>\n",
       "      <th>6</th>\n",
       "      <th>7</th>\n",
       "      <th>8</th>\n",
       "      <th>9</th>\n",
       "      <th>...</th>\n",
       "      <th>490</th>\n",
       "      <th>491</th>\n",
       "      <th>492</th>\n",
       "      <th>493</th>\n",
       "      <th>494</th>\n",
       "      <th>495</th>\n",
       "      <th>496</th>\n",
       "      <th>497</th>\n",
       "      <th>498</th>\n",
       "      <th>499</th>\n",
       "    </tr>\n",
       "  </thead>\n",
       "  <tbody>\n",
       "    <tr>\n",
       "      <th>0</th>\n",
       "      <td>1.000000</td>\n",
       "      <td>1.000000</td>\n",
       "      <td>1.000000</td>\n",
       "      <td>1.000000</td>\n",
       "      <td>1.000000</td>\n",
       "      <td>1.000000</td>\n",
       "      <td>1.000000</td>\n",
       "      <td>1.000000</td>\n",
       "      <td>1.000000</td>\n",
       "      <td>1.000000</td>\n",
       "      <td>...</td>\n",
       "      <td>1.000000</td>\n",
       "      <td>1.000000</td>\n",
       "      <td>1.000000</td>\n",
       "      <td>1.000000</td>\n",
       "      <td>1.000000</td>\n",
       "      <td>1.000000</td>\n",
       "      <td>1.000000</td>\n",
       "      <td>1.000000</td>\n",
       "      <td>1.000000</td>\n",
       "      <td>1.000000</td>\n",
       "    </tr>\n",
       "    <tr>\n",
       "      <th>1</th>\n",
       "      <td>1.015857</td>\n",
       "      <td>1.010466</td>\n",
       "      <td>0.983918</td>\n",
       "      <td>1.012031</td>\n",
       "      <td>1.007408</td>\n",
       "      <td>1.016149</td>\n",
       "      <td>0.998811</td>\n",
       "      <td>1.010825</td>\n",
       "      <td>1.002670</td>\n",
       "      <td>0.999693</td>\n",
       "      <td>...</td>\n",
       "      <td>1.004909</td>\n",
       "      <td>1.009199</td>\n",
       "      <td>0.996206</td>\n",
       "      <td>0.983939</td>\n",
       "      <td>0.976086</td>\n",
       "      <td>0.994870</td>\n",
       "      <td>1.000880</td>\n",
       "      <td>1.001197</td>\n",
       "      <td>1.016521</td>\n",
       "      <td>1.013770</td>\n",
       "    </tr>\n",
       "    <tr>\n",
       "      <th>2</th>\n",
       "      <td>1.015172</td>\n",
       "      <td>1.008738</td>\n",
       "      <td>0.983414</td>\n",
       "      <td>1.008177</td>\n",
       "      <td>0.995384</td>\n",
       "      <td>0.990579</td>\n",
       "      <td>0.994790</td>\n",
       "      <td>1.006749</td>\n",
       "      <td>1.007137</td>\n",
       "      <td>0.999732</td>\n",
       "      <td>...</td>\n",
       "      <td>0.994272</td>\n",
       "      <td>1.025406</td>\n",
       "      <td>0.999060</td>\n",
       "      <td>0.986206</td>\n",
       "      <td>0.969756</td>\n",
       "      <td>1.014413</td>\n",
       "      <td>1.015733</td>\n",
       "      <td>0.992381</td>\n",
       "      <td>1.037438</td>\n",
       "      <td>1.009166</td>\n",
       "    </tr>\n",
       "    <tr>\n",
       "      <th>3</th>\n",
       "      <td>1.012251</td>\n",
       "      <td>1.009243</td>\n",
       "      <td>0.995373</td>\n",
       "      <td>1.000846</td>\n",
       "      <td>1.008959</td>\n",
       "      <td>0.980801</td>\n",
       "      <td>1.008554</td>\n",
       "      <td>0.996163</td>\n",
       "      <td>1.022966</td>\n",
       "      <td>0.989129</td>\n",
       "      <td>...</td>\n",
       "      <td>1.008347</td>\n",
       "      <td>1.040019</td>\n",
       "      <td>0.982538</td>\n",
       "      <td>0.985938</td>\n",
       "      <td>0.952939</td>\n",
       "      <td>1.004986</td>\n",
       "      <td>1.010375</td>\n",
       "      <td>0.992232</td>\n",
       "      <td>1.052431</td>\n",
       "      <td>0.993710</td>\n",
       "    </tr>\n",
       "    <tr>\n",
       "      <th>4</th>\n",
       "      <td>1.009344</td>\n",
       "      <td>1.020581</td>\n",
       "      <td>1.009825</td>\n",
       "      <td>0.978582</td>\n",
       "      <td>1.008211</td>\n",
       "      <td>0.983016</td>\n",
       "      <td>1.016903</td>\n",
       "      <td>0.989168</td>\n",
       "      <td>1.019200</td>\n",
       "      <td>0.990357</td>\n",
       "      <td>...</td>\n",
       "      <td>1.004099</td>\n",
       "      <td>1.038904</td>\n",
       "      <td>1.004725</td>\n",
       "      <td>0.991977</td>\n",
       "      <td>0.945458</td>\n",
       "      <td>1.015020</td>\n",
       "      <td>1.014290</td>\n",
       "      <td>1.008590</td>\n",
       "      <td>1.035702</td>\n",
       "      <td>0.984583</td>\n",
       "    </tr>\n",
       "    <tr>\n",
       "      <th>...</th>\n",
       "      <td>...</td>\n",
       "      <td>...</td>\n",
       "      <td>...</td>\n",
       "      <td>...</td>\n",
       "      <td>...</td>\n",
       "      <td>...</td>\n",
       "      <td>...</td>\n",
       "      <td>...</td>\n",
       "      <td>...</td>\n",
       "      <td>...</td>\n",
       "      <td>...</td>\n",
       "      <td>...</td>\n",
       "      <td>...</td>\n",
       "      <td>...</td>\n",
       "      <td>...</td>\n",
       "      <td>...</td>\n",
       "      <td>...</td>\n",
       "      <td>...</td>\n",
       "      <td>...</td>\n",
       "      <td>...</td>\n",
       "      <td>...</td>\n",
       "    </tr>\n",
       "    <tr>\n",
       "      <th>2516</th>\n",
       "      <td>4.044142</td>\n",
       "      <td>2.900620</td>\n",
       "      <td>2.871139</td>\n",
       "      <td>6.841236</td>\n",
       "      <td>4.416601</td>\n",
       "      <td>7.886352</td>\n",
       "      <td>2.925484</td>\n",
       "      <td>5.258719</td>\n",
       "      <td>10.421791</td>\n",
       "      <td>1.820439</td>\n",
       "      <td>...</td>\n",
       "      <td>4.544476</td>\n",
       "      <td>10.645035</td>\n",
       "      <td>3.353296</td>\n",
       "      <td>16.973386</td>\n",
       "      <td>7.216653</td>\n",
       "      <td>4.571621</td>\n",
       "      <td>6.905879</td>\n",
       "      <td>3.350284</td>\n",
       "      <td>13.940961</td>\n",
       "      <td>7.141428</td>\n",
       "    </tr>\n",
       "    <tr>\n",
       "      <th>2517</th>\n",
       "      <td>4.053904</td>\n",
       "      <td>2.940405</td>\n",
       "      <td>2.933611</td>\n",
       "      <td>6.947012</td>\n",
       "      <td>4.426898</td>\n",
       "      <td>7.815675</td>\n",
       "      <td>2.935200</td>\n",
       "      <td>5.248931</td>\n",
       "      <td>10.468419</td>\n",
       "      <td>1.849402</td>\n",
       "      <td>...</td>\n",
       "      <td>4.557322</td>\n",
       "      <td>10.540783</td>\n",
       "      <td>3.390730</td>\n",
       "      <td>16.968240</td>\n",
       "      <td>7.161898</td>\n",
       "      <td>4.613270</td>\n",
       "      <td>6.856707</td>\n",
       "      <td>3.335083</td>\n",
       "      <td>13.645144</td>\n",
       "      <td>7.169206</td>\n",
       "    </tr>\n",
       "    <tr>\n",
       "      <th>2518</th>\n",
       "      <td>4.111198</td>\n",
       "      <td>2.922842</td>\n",
       "      <td>2.965308</td>\n",
       "      <td>7.022742</td>\n",
       "      <td>4.505243</td>\n",
       "      <td>7.868487</td>\n",
       "      <td>2.950425</td>\n",
       "      <td>5.234334</td>\n",
       "      <td>10.492743</td>\n",
       "      <td>1.845756</td>\n",
       "      <td>...</td>\n",
       "      <td>4.499372</td>\n",
       "      <td>10.591176</td>\n",
       "      <td>3.355430</td>\n",
       "      <td>17.098174</td>\n",
       "      <td>7.149091</td>\n",
       "      <td>4.589776</td>\n",
       "      <td>6.729597</td>\n",
       "      <td>3.384108</td>\n",
       "      <td>13.837595</td>\n",
       "      <td>7.179954</td>\n",
       "    </tr>\n",
       "    <tr>\n",
       "      <th>2519</th>\n",
       "      <td>4.115372</td>\n",
       "      <td>2.971831</td>\n",
       "      <td>2.969710</td>\n",
       "      <td>6.985500</td>\n",
       "      <td>4.527472</td>\n",
       "      <td>7.846978</td>\n",
       "      <td>2.963571</td>\n",
       "      <td>5.249049</td>\n",
       "      <td>10.725665</td>\n",
       "      <td>1.862517</td>\n",
       "      <td>...</td>\n",
       "      <td>4.469747</td>\n",
       "      <td>10.544542</td>\n",
       "      <td>3.338500</td>\n",
       "      <td>17.189585</td>\n",
       "      <td>7.276673</td>\n",
       "      <td>4.591954</td>\n",
       "      <td>6.772011</td>\n",
       "      <td>3.396973</td>\n",
       "      <td>13.761928</td>\n",
       "      <td>7.284197</td>\n",
       "    </tr>\n",
       "    <tr>\n",
       "      <th>2520</th>\n",
       "      <td>4.045649</td>\n",
       "      <td>2.968594</td>\n",
       "      <td>2.981094</td>\n",
       "      <td>6.927879</td>\n",
       "      <td>4.539102</td>\n",
       "      <td>8.007660</td>\n",
       "      <td>2.953449</td>\n",
       "      <td>5.156645</td>\n",
       "      <td>10.772593</td>\n",
       "      <td>1.893631</td>\n",
       "      <td>...</td>\n",
       "      <td>4.522516</td>\n",
       "      <td>10.564923</td>\n",
       "      <td>3.336238</td>\n",
       "      <td>17.282224</td>\n",
       "      <td>7.241107</td>\n",
       "      <td>4.649459</td>\n",
       "      <td>6.673498</td>\n",
       "      <td>3.449513</td>\n",
       "      <td>13.907144</td>\n",
       "      <td>7.255935</td>\n",
       "    </tr>\n",
       "  </tbody>\n",
       "</table>\n",
       "<p>2521 rows × 500 columns</p>\n",
       "</div>"
      ],
      "text/plain": [
       "           0         1         2         3         4         5         6    \\\n",
       "0     1.000000  1.000000  1.000000  1.000000  1.000000  1.000000  1.000000   \n",
       "1     1.015857  1.010466  0.983918  1.012031  1.007408  1.016149  0.998811   \n",
       "2     1.015172  1.008738  0.983414  1.008177  0.995384  0.990579  0.994790   \n",
       "3     1.012251  1.009243  0.995373  1.000846  1.008959  0.980801  1.008554   \n",
       "4     1.009344  1.020581  1.009825  0.978582  1.008211  0.983016  1.016903   \n",
       "...        ...       ...       ...       ...       ...       ...       ...   \n",
       "2516  4.044142  2.900620  2.871139  6.841236  4.416601  7.886352  2.925484   \n",
       "2517  4.053904  2.940405  2.933611  6.947012  4.426898  7.815675  2.935200   \n",
       "2518  4.111198  2.922842  2.965308  7.022742  4.505243  7.868487  2.950425   \n",
       "2519  4.115372  2.971831  2.969710  6.985500  4.527472  7.846978  2.963571   \n",
       "2520  4.045649  2.968594  2.981094  6.927879  4.539102  8.007660  2.953449   \n",
       "\n",
       "           7          8         9    ...       490        491       492  \\\n",
       "0     1.000000   1.000000  1.000000  ...  1.000000   1.000000  1.000000   \n",
       "1     1.010825   1.002670  0.999693  ...  1.004909   1.009199  0.996206   \n",
       "2     1.006749   1.007137  0.999732  ...  0.994272   1.025406  0.999060   \n",
       "3     0.996163   1.022966  0.989129  ...  1.008347   1.040019  0.982538   \n",
       "4     0.989168   1.019200  0.990357  ...  1.004099   1.038904  1.004725   \n",
       "...        ...        ...       ...  ...       ...        ...       ...   \n",
       "2516  5.258719  10.421791  1.820439  ...  4.544476  10.645035  3.353296   \n",
       "2517  5.248931  10.468419  1.849402  ...  4.557322  10.540783  3.390730   \n",
       "2518  5.234334  10.492743  1.845756  ...  4.499372  10.591176  3.355430   \n",
       "2519  5.249049  10.725665  1.862517  ...  4.469747  10.544542  3.338500   \n",
       "2520  5.156645  10.772593  1.893631  ...  4.522516  10.564923  3.336238   \n",
       "\n",
       "            493       494       495       496       497        498       499  \n",
       "0      1.000000  1.000000  1.000000  1.000000  1.000000   1.000000  1.000000  \n",
       "1      0.983939  0.976086  0.994870  1.000880  1.001197   1.016521  1.013770  \n",
       "2      0.986206  0.969756  1.014413  1.015733  0.992381   1.037438  1.009166  \n",
       "3      0.985938  0.952939  1.004986  1.010375  0.992232   1.052431  0.993710  \n",
       "4      0.991977  0.945458  1.015020  1.014290  1.008590   1.035702  0.984583  \n",
       "...         ...       ...       ...       ...       ...        ...       ...  \n",
       "2516  16.973386  7.216653  4.571621  6.905879  3.350284  13.940961  7.141428  \n",
       "2517  16.968240  7.161898  4.613270  6.856707  3.335083  13.645144  7.169206  \n",
       "2518  17.098174  7.149091  4.589776  6.729597  3.384108  13.837595  7.179954  \n",
       "2519  17.189585  7.276673  4.591954  6.772011  3.396973  13.761928  7.284197  \n",
       "2520  17.282224  7.241107  4.649459  6.673498  3.449513  13.907144  7.255935  \n",
       "\n",
       "[2521 rows x 500 columns]"
      ]
     },
     "execution_count": 39,
     "metadata": {},
     "output_type": "execute_result"
    }
   ],
   "source": [
    "# Run the Monte Carlo simulation to forecast 10 years cumulative returns\n",
    "MC_10year.calc_cumulative_return()"
   ]
  },
  {
   "cell_type": "code",
   "execution_count": 40,
   "metadata": {},
   "outputs": [
    {
     "data": {
      "image/png": "[encoded data removed]",
      "text/plain": [
       "<Figure size 432x288 with 1 Axes>"
      ]
     },
     "metadata": {
      "needs_background": "light"
     },
     "output_type": "display_data"
    }
   ],
   "source": [
    "# Visualize the 10-year Monte Carlo simulation by creating an\n",
    "# overlay line plot\n",
    "MC_sim_line_plot = MC_10year.plot_simulation()\n",
    "\n",
    "\n"
   ]
  },
  {
   "cell_type": "code",
   "execution_count": 41,
   "metadata": {},
   "outputs": [
    {
     "data": {
      "image/png": "[encoded data removed]",
      "text/plain": [
       "<Figure size 432x288 with 1 Axes>"
      ]
     },
     "metadata": {
      "needs_background": "light"
     },
     "output_type": "display_data"
    }
   ],
   "source": [
    "# Visualize the probability distribution of the 10-year Monte Carlo simulation \n",
    "# by plotting a histogram\n",
    "MC_sim_dist_plot = MC_10year.plot_distribution()"
   ]
  },
  {
   "cell_type": "code",
   "execution_count": 42,
   "metadata": {},
   "outputs": [
    {
     "name": "stdout",
     "output_type": "stream",
     "text": [
      "count           500.000000\n",
      "mean              5.990392\n",
      "std               3.788708\n",
      "min               0.925725\n",
      "25%               3.339115\n",
      "50%               4.993881\n",
      "75%               7.412005\n",
      "max              24.022269\n",
      "95% CI Lower      1.513365\n",
      "95% CI Upper     15.685408\n",
      "Name: 2520, dtype: float64\n"
     ]
    }
   ],
   "source": [
    "# Generate summary statistics from the 10-year Monte Carlo simulation results\n",
    "MC_summary_statistics = MC_10year.summarize_cumulative_return()\n",
    "\n",
    "\n",
    "# Review the 30-year Monte Carlo summary statistics\n",
    "print(MC_summary_statistics)"
   ]
  },
  {
   "cell_type": "markdown",
   "metadata": {},
   "source": [
    "### Answer the following questions:"
   ]
  },
  {
   "cell_type": "markdown",
   "metadata": {},
   "source": [
    "#### Question: Using the current value of only the stock and bond portion of the member's portfolio and the summary statistics that you generated from the new Monte Carlo simulation, what are the lower and upper bounds for the expected value of the portfolio (with the new weights) with a 95% confidence interval?"
   ]
  },
  {
   "cell_type": "code",
   "execution_count": 43,
   "metadata": {},
   "outputs": [
    {
     "name": "stdout",
     "output_type": "stream",
     "text": [
      "Stock: 51580.100000000006\n",
      "Bond: 22890.0\n",
      "Total: 74470.1\n"
     ]
    }
   ],
   "source": [
    "# Print the current balance of the stock and bond portion of the members portfolio\n",
    "print(\"Stock:\",spy_value)\n",
    "print(\"Bond:\",agg_value)\n",
    "print(\"Total:\",total_stocks_bonds)"
   ]
  },
  {
   "cell_type": "code",
   "execution_count": 44,
   "metadata": {},
   "outputs": [
    {
     "name": "stdout",
     "output_type": "stream",
     "text": [
      "lower: 112700.40819403855\n",
      "upper: 1168093.8760238972\n"
     ]
    }
   ],
   "source": [
    "# Use the lower and upper `95%` confidence intervals to calculate the range of the possible outcomes for the current stock/bond portfolio\n",
    "ci_lower_ten_cumulative_return = MC_summary_statistics[8]*total_stocks_bonds\n",
    "ci_upper_ten_cumulative_return = MC_summary_statistics[9]*total_stocks_bonds\n",
    "\n",
    "# Print the result of your calculations\n",
    "print(\"lower:\",ci_lower_ten_cumulative_return)\n",
    "print(\"upper:\",ci_upper_ten_cumulative_return)"
   ]
  },
  {
   "cell_type": "markdown",
   "metadata": {},
   "source": [
    "#### Question: Will weighting the portfolio more heavily to stocks allow the credit union members to retire after only 10 years?"
   ]
  },
  {
   "cell_type": "raw",
   "metadata": {},
   "source": [
    "probably not"
   ]
  }
 ],
 "metadata": {
  "kernelspec": {
   "display_name": "Python 3",
   "language": "python",
   "name": "python3"
  },
  "language_info": {
   "codemirror_mode": {
    "name": "ipython",
    "version": 3
   },
   "file_extension": ".py",
   "mimetype": "text/x-python",
   "name": "python",
   "nbconvert_exporter": "python",
   "pygments_lexer": "ipython3",
   "version": "3.8.8"
  }
 },
 "nbformat": 4,
 "nbformat_minor": 4
}
